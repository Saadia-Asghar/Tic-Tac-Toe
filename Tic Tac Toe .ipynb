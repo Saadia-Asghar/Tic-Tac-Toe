import tkinter as tk
from tkinter import messagebox
import random

class GameApp:
    def __init__(self, root):
        self.root = root
        self.root.title("Interactive Tic Tac Toe")
        self.current_player = None
        self.players_data = {}  # Store player data
        self.show_login()

    def show_login(self):
        self.clear_window()
        tk.Label(self.root, text="Enter Username:", bg="#2C3E50", fg="white").pack(pady=10)
        self.username_entry = tk.Entry(self.root)
        self.username_entry.pack(pady=5)
        tk.Button(self.root, text="Login", command=self.login, bg="#3498DB", fg="white").pack(pady=5)
        tk.Button(self.root, text="Create Account", command=self.create_account, bg="#2ECC71", fg="white").pack(pady=5)

    def login(self):
        username = self.username_entry.get()
        if username in self.players_data:
            self.current_player = username
            self.show_dashboard()
        else:
            messagebox.showerror("Error", "Username not found!")

    def create_account(self):
        username = self.username_entry.get()
        if username not in self.players_data:
            self.players_data[username] = {"wins": 0, "losses": 0, "draws": 0}
            messagebox.showinfo("Success", "Account created!")
            self.current_player = username
            self.show_dashboard()
        else:
            messagebox.showerror("Error", "Username already exists!")

    def show_dashboard(self):
        self.clear_window()
        tk.Label(self.root, text=f"Welcome, {self.current_player}!", bg="#2C3E50", fg="white").pack(pady=10)
        tk.Label(self.root, text=f"Wins: {self.players_data[self.current_player]['wins']}", bg="#2C3E50", fg="white").pack(pady=5)
        tk.Label(self.root, text=f"Losses: {self.players_data[self.current_player]['losses']}", bg="#2C3E50", fg="white").pack(pady=5)
        tk.Label(self.root, text=f"Draws: {self.players_data[self.current_player]['draws']}", bg="#2C3E50", fg="white").pack(pady=5)
        tk.Button(self.root, text="Play vs Player", command=self.get_second_player_name, bg="#3498DB", fg="white").pack(pady=5)
        tk.Button(self.root, text="Play vs Computer", command=self.play_vs_computer, bg="#E74C3C", fg="white").pack(pady=5)
        tk.Button(self.root, text="Logout", command=self.show_login, bg="#F39C12", fg="white").pack(pady=5)

    def get_second_player_name(self):
        self.clear_window()
        tk.Label(self.root, text="Enter Second Player's Name:", bg="#2C3E50", fg="white").pack(pady=10)
        self.second_player_entry = tk.Entry(self.root)
        self.second_player_entry.pack(pady=5)
        tk.Button(self.root, text="Start Game", command=self.start_player_vs_player, bg="#3498DB", fg="white").pack(pady=5)

    def start_player_vs_player(self):
        self.second_player = self.second_player_entry.get()
        if self.second_player:
            self.start_game("Player vs Player")
        else:
            messagebox.showerror("Error", "Please enter a name for the second player.")

    def play_vs_computer(self):
        self.start_game("Player vs Computer")

    def start_game(self, mode):
        self.clear_window()
        self.board = [""] * 9  # Reset the board
        self.current_turn = "X"  # X always starts
        self.mode = mode
        self.buttons = []

        for i in range(9):
            button = tk.Button(self.root, text="", font=("Arial", 24), width=5, height=2,
                               command=lambda i=i: self.make_move(i), bg="#FFFFFF")
            button.grid(row=i // 3, column=i % 3, padx=5, pady=5)
            self.buttons.append(button)

    def make_move(self, index):
        if self.board[index] == "" and not self.check_winner():
            self.board[index] = self.current_turn
            self.buttons[index].config(text=self.current_turn, bg="#3498DB" if self.current_turn == "X" else "#E74C3C")

            if self.check_winner():
                winner = self.current_turn
                messagebox.showinfo("Game Over", f"Player {winner} wins!")
                self.update_stats(winner)
                self.show_dashboard()
            elif "" not in self.board:
                messagebox.showinfo("Game Over", "It's a draw!")
                self.update_stats("draw")
                self.show_dashboard()
            else:
                self.current_turn = "O" if self.current_turn == "X" else "X"
                if self.mode == "Player vs Computer" and self.current_turn == "O":
                    self.computer_move()

    def computer_move(self):
        available_moves = [i for i in range(9) if self.board[i] == ""]
        if available_moves:
            move = random.choice(available_moves)
            self.make_move(move)

    def check_winner(self):
        winning_combinations = [
            (0, 1, 2), (3, 4, 5), (6, 7, 8),  # Horizontal
            (0, 3, 6), (1, 4, 7), (2, 5, 8),  # Vertical
            (0, 4, 8), (2, 4, 6)               # Diagonal
        ]
        for combo in winning_combinations:
            if self.board[combo[0]] == self.board[combo[1]] == self.board[combo[2]] != "":
                return True
        return False

    def update_stats(self, result):
        if result == "X":
            self.players_data[self.current_player]["wins"] += 1
            self.players_data[self.second_player]["losses"] += 1
        elif result == "O":
            self.players_data[self.current_player]["losses"] += 1
            self.players_data[self.second_player]["wins"] += 1
        else:
            self.players_data[self.current_player]["draws"] += 1
            self.players_data[self.second_player]["draws"] += 1

    def clear_window(self):
        for widget in self.root.winfo_children():
            widget.destroy()

if __name__ == "__main__":
    root = tk.Tk()
    app = GameApp(root)
    root.mainloop()
